{
 "cells": [
  {
   "cell_type": "markdown",
   "id": "ba91de60",
   "metadata": {},
   "source": [
    "# Clase 4"
   ]
  },
  {
   "cell_type": "markdown",
   "id": "0c410327",
   "metadata": {},
   "source": [
    "## Fundamentos de clases y objetos"
   ]
  },
  {
   "cell_type": "markdown",
   "id": "a9063ee7",
   "metadata": {},
   "source": [
    "### Atributos de clases e instancia"
   ]
  },
  {
   "cell_type": "code",
   "execution_count": null,
   "id": "afc668a6",
   "metadata": {},
   "outputs": [],
   "source": [
    "class Vehiculo:\n",
    "    pais = \"Peru\"\n",
    "    \n",
    "    def __init__(self, r_marca, r_modelo, r_color):\n",
    "        self.marca = r_marca\n",
    "        self.modelo = r_modelo\n",
    "        self.color = r_color"
   ]
  },
  {
   "cell_type": "code",
   "execution_count": 20,
   "id": "46292401",
   "metadata": {},
   "outputs": [],
   "source": [
    "vehiculo1 = Vehiculo(\"Toyota\", \"Corolla\", \"Rojo\")\n",
    "vehiculo2 = Vehiculo(\"Ford\", \"Fiesta\", \"Negro\")\n",
    "vehiculo3 = Vehiculo(\"Honda\", \"Civic\", \"Azul\")"
   ]
  },
  {
   "cell_type": "code",
   "execution_count": 45,
   "id": "7de90bd5",
   "metadata": {},
   "outputs": [
    {
     "name": "stdout",
     "output_type": "stream",
     "text": [
      "Vehiculo 1\n",
      "Marca: Toyota\n",
      "Modelo: Corolla\n",
      "Color: Rojo\n"
     ]
    }
   ],
   "source": [
    "print(\"Vehiculo 1\")\n",
    "print(f\"Marca: {vehiculo1.marca}\")\n",
    "print(f\"Modelo: {vehiculo1.modelo}\")\n",
    "print(f\"Color: {vehiculo1.color}\")"
   ]
  },
  {
   "cell_type": "code",
   "execution_count": 46,
   "id": "fbb6d9fa",
   "metadata": {},
   "outputs": [
    {
     "name": "stdout",
     "output_type": "stream",
     "text": [
      "Vehiculo 2\n",
      "Marca: Ford\n",
      "Modelo: Fiesta\n",
      "Color: Negro\n"
     ]
    }
   ],
   "source": [
    "print(\"Vehiculo 2\")\n",
    "print(f\"Marca: {vehiculo2.marca}\")\n",
    "print(f\"Modelo: {vehiculo2.modelo}\")\n",
    "print(f\"Color: {vehiculo2.color}\")"
   ]
  },
  {
   "cell_type": "code",
   "execution_count": 47,
   "id": "75dbb1a5",
   "metadata": {},
   "outputs": [
    {
     "name": "stdout",
     "output_type": "stream",
     "text": [
      "Vehiculo 3\n",
      "Marca: Honda\n",
      "Modelo: Civic\n",
      "Color: Azul\n"
     ]
    }
   ],
   "source": [
    "print(\"Vehiculo 3\")\n",
    "print(f\"Marca: {vehiculo3.marca}\")\n",
    "print(f\"Modelo: {vehiculo3.modelo}\")\n",
    "print(f\"Color: {vehiculo3.color}\")"
   ]
  },
  {
   "cell_type": "code",
   "execution_count": 48,
   "id": "bf754d1b",
   "metadata": {},
   "outputs": [
    {
     "name": "stdout",
     "output_type": "stream",
     "text": [
      "Pais de los Vehiculo\n",
      "Vehiculo 1: Peru\n",
      "Vehiculo 2: Peru\n",
      "Vehiculo 3: Peru\n"
     ]
    }
   ],
   "source": [
    "print(\"Pais de los Vehiculo\")\n",
    "print(f\"Vehiculo 1: {vehiculo1.pais}\")\n",
    "print(f\"Vehiculo 2: {vehiculo2.pais}\")\n",
    "print(f\"Vehiculo 3: {vehiculo3.pais}\")"
   ]
  },
  {
   "cell_type": "code",
   "execution_count": 61,
   "id": "8a0195ad",
   "metadata": {},
   "outputs": [],
   "source": [
    "# vehiculo1 = Vehiculo(\"Toyota\", \"Corolla\", \"Rojo\")\n",
    "vehiculo1.color = \"Amarillo\"\n",
    "\n",
    "# vehiculo2 = Vehiculo(\"Ford\", \"Fiesta\", \"Negro\")\n",
    "vehiculo2.color = \"Verde\"\n",
    "\n",
    "# vehiculo3 = Vehiculo(\"Honda\", \"Civic\", \"Azul\")\n",
    "vehiculo3.color = \"Celeste\""
   ]
  },
  {
   "cell_type": "markdown",
   "id": "e28d6061",
   "metadata": {},
   "source": [
    "### Metodos de clases e instancia"
   ]
  },
  {
   "cell_type": "code",
   "execution_count": 64,
   "id": "b967055e",
   "metadata": {},
   "outputs": [],
   "source": [
    "class Vehiculo:\n",
    "    pais = \"Peru\"\n",
    "    \n",
    "    def __init__(self, r_marca, r_modelo, r_color):\n",
    "        self.marca = r_marca\n",
    "        self.modelo = r_modelo\n",
    "        self.color = r_color\n",
    "\n",
    "    def mostrar_info(self):\n",
    "        print(f\"Marca: {self.marca}, Modelo: {self.modelo}, Color: {self.color}\")\n",
    "\n",
    "    @classmethod\n",
    "    def mostrar_pais(cls):\n",
    "        print(f\"Pais: {cls.pais}\")"
   ]
  },
  {
   "cell_type": "code",
   "execution_count": 65,
   "id": "73bb1d35",
   "metadata": {},
   "outputs": [],
   "source": [
    "vehiculo1 = Vehiculo(\"Toyota\", \"Corolla\", \"Rojo\")\n",
    "vehiculo2 = Vehiculo(\"Ford\", \"Fiesta\", \"Negro\")\n",
    "vehiculo3 = Vehiculo(\"Honda\", \"Civic\", \"Azul\")"
   ]
  },
  {
   "cell_type": "code",
   "execution_count": 66,
   "id": "41d37fb4",
   "metadata": {},
   "outputs": [
    {
     "name": "stdout",
     "output_type": "stream",
     "text": [
      "Vehiculo 1\n",
      "Marca: Toyota, Modelo: Corolla, Color: Rojo\n",
      "Vehiculo 2\n",
      "Marca: Ford, Modelo: Fiesta, Color: Negro\n",
      "Vehiculo 3\n",
      "Marca: Honda, Modelo: Civic, Color: Azul\n"
     ]
    }
   ],
   "source": [
    "print(\"Vehiculo 1\")\n",
    "vehiculo1.mostrar_info()\n",
    "print(\"Vehiculo 2\")\n",
    "vehiculo2.mostrar_info()\n",
    "print(\"Vehiculo 3\")\n",
    "vehiculo3.mostrar_info()"
   ]
  },
  {
   "cell_type": "code",
   "execution_count": 69,
   "id": "4387b683",
   "metadata": {},
   "outputs": [
    {
     "name": "stdout",
     "output_type": "stream",
     "text": [
      "Vehiculo 1\n",
      "Pais: Peru\n",
      "Vehiculo 2\n",
      "Pais: Peru\n",
      "Vehiculo 3\n",
      "Pais: Peru\n"
     ]
    }
   ],
   "source": [
    "print(\"Vehiculo 1\")\n",
    "vehiculo1.mostrar_pais()\n",
    "print(\"Vehiculo 2\")\n",
    "vehiculo2.mostrar_pais()\n",
    "print(\"Vehiculo 3\")\n",
    "vehiculo3.mostrar_pais()"
   ]
  },
  {
   "cell_type": "code",
   "execution_count": 68,
   "metadata": {},
   "outputs": [
    {
     "name": "stdout",
     "output_type": "stream",
     "text": [
      "Vehiculo 1\n",
      "Pais: Peru\n",
      "Vehiculo 2\n",
      "Pais: Peru\n",
      "Vehiculo 3\n",
      "Pais: Peru\n",
      "----- ----- -----\n",
      "Pais: Peru\n"
     ]
    }
   ],
   "source": [
    "print(\"Vehiculo 1\")\n",
    "vehiculo1.mostrar_pais()\n",
    "print(\"Vehiculo 2\")\n",
    "vehiculo2.mostrar_pais()\n",
    "print(\"Vehiculo 3\")\n",
    "vehiculo3.mostrar_pais()\n",
    "print(\"----- ----- -----\")\n",
    "Vehiculo.mostrar_pais()"
   ]
  },
  {
   "cell_type": "markdown",
   "id": "de7095d7",
   "metadata": {},
   "source": [
    "## Encapsulamiento"
   ]
  },
  {
   "cell_type": "code",
   "execution_count": 70,
   "metadata": {},
   "outputs": [],
   "source": [
    "class Persona:\n",
    "    def __init__(self, r_nombre, r_edad, r_estado_civil, r_dni):\n",
    "        self.nombre = r_nombre\n",
    "        self.edad = r_edad\n",
    "        self._estado_civil = r_estado_civil\n",
    "        self.__dni = r_dni\n",
    "    def get_estado_civil(self):\n",
    "        return self._estado_civil\n",
    "    \n",
    "    def set_estado_civil(self, nuevo_valor):\n",
    "        self._estado_civil = nuevo_valor\n",
    "\n",
    "    def get_dni(self):\n",
    "        return self.__dni\n",
    "    \n",
    "    def set_dni(self, nuevo_valor):\n",
    "        self.__dni = nuevo_valor"
   ]
  },
  {
   "cell_type": "code",
   "execution_count": 71,
   "id": "da0e99c1",
   "metadata": {},
   "outputs": [
    {
     "name": "stdout",
     "output_type": "stream",
     "text": [
      "Atributos publicos\n",
      "Pepe\n",
      "45\n",
      "Atributos protegidos\n",
      "Casado\n",
      "Casado\n",
      "Atributos privados\n"
     ]
    },
    {
     "ename": "AttributeError",
     "evalue": "'Persona' object has no attribute '__dni'",
     "output_type": "error",
     "traceback": [
      "\u001b[31m---------------------------------------------------------------------------\u001b[39m",
      "\u001b[31mAttributeError\u001b[39m                            Traceback (most recent call last)",
      "\u001b[36mCell\u001b[39m\u001b[36m \u001b[39m\u001b[32mIn[71]\u001b[39m\u001b[32m, line 10\u001b[39m\n\u001b[32m      8\u001b[39m \u001b[38;5;28mprint\u001b[39m(persona1._estado_civil)\n\u001b[32m      9\u001b[39m \u001b[38;5;28mprint\u001b[39m(\u001b[33m\"\u001b[39m\u001b[33mAtributos privados\u001b[39m\u001b[33m\"\u001b[39m)\n\u001b[32m---> \u001b[39m\u001b[32m10\u001b[39m \u001b[38;5;28mprint\u001b[39m(\u001b[43mpersona1\u001b[49m\u001b[43m.\u001b[49m\u001b[43m__dni\u001b[49m)\n",
      "\u001b[31mAttributeError\u001b[39m: 'Persona' object has no attribute '__dni'"
     ]
    }
   ],
   "source": [
    "persona1 = Persona(\"Pepe\", 45, \"Casado\", 78787878)\n",
    "\n",
    "print(\"Atributos publicos\")\n",
    "print(persona1.nombre)\n",
    "print(persona1.edad)\n",
    "print(\"Atributos protegidos\")\n",
    "print(persona1.get_estado_civil())\n",
    "print(persona1._estado_civil)\n",
    "print(\"Atributos privados\")\n",
    "print(persona1.__dni)"
   ]
  },
  {
   "cell_type": "code",
   "execution_count": 73,
   "id": "e52b86bf",
   "metadata": {},
   "outputs": [
    {
     "name": "stdout",
     "output_type": "stream",
     "text": [
      "Atributos publicos\n",
      "Pepe\n",
      "45\n",
      "Atributos protegidos\n",
      "Casado\n",
      "Casado\n",
      "Atributos privados\n",
      "78787878\n",
      "78787878\n"
     ]
    }
   ],
   "source": [
    "persona1 = Persona(\"Pepe\", 45, \"Casado\", 78787878)\n",
    "\n",
    "print(\"Atributos publicos\")\n",
    "print(persona1.nombre)\n",
    "print(persona1.edad)\n",
    "print(\"Atributos protegidos\")\n",
    "print(persona1.get_estado_civil())\n",
    "print(persona1._estado_civil)\n",
    "print(\"Atributos privados\")\n",
    "print(persona1.get_dni())\n",
    "print(persona1._Persona__dni)"
   ]
  },
  {
   "cell_type": "code",
   "execution_count": 79,
   "id": "1f3bbd4a",
   "metadata": {},
   "outputs": [],
   "source": [
    "class Persona:\n",
    "    def __init__(self, r_nombre, r_edad, r_estado_civil, r_dni):\n",
    "        self.nombre = r_nombre\n",
    "        self.edad = r_edad\n",
    "        self._estado_civil = r_estado_civil\n",
    "        self.__dni = r_dni\n",
    "    \n",
    "    @property\n",
    "    def estado_civil(self):\n",
    "        return self._estado_civil\n",
    "    \n",
    "    @estado_civil.setter\n",
    "    def estado_civil(self, nuevo_valor):\n",
    "        self._estado_civil = nuevo_valor\n",
    "\n",
    "    @property\n",
    "    def dni(self):\n",
    "        return self.__dni\n",
    "    \n",
    "    @dni.setter\n",
    "    def dni(self, nuevo_valor):\n",
    "        self.__dni = nuevo_valor"
   ]
  },
  {
   "cell_type": "code",
   "execution_count": 80,
   "id": "47dcd5a1",
   "metadata": {},
   "outputs": [
    {
     "name": "stdout",
     "output_type": "stream",
     "text": [
      "Atributos publicos\n",
      "Pepe\n",
      "45\n",
      "Atributos protegidos\n",
      "Casado\n",
      "Atributos privados\n",
      "78787878\n"
     ]
    }
   ],
   "source": [
    "persona1 = Persona(\"Pepe\", 45, \"Casado\", 78787878)\n",
    "\n",
    "print(\"Atributos publicos\")\n",
    "print(persona1.nombre)\n",
    "print(persona1.edad)\n",
    "print(\"Atributos protegidos\")\n",
    "print(persona1.estado_civil)\n",
    "print(\"Atributos privados\")\n",
    "print(persona1.dni)"
   ]
  },
  {
   "cell_type": "markdown",
   "id": "985d0403",
   "metadata": {},
   "source": [
    "## Herencia"
   ]
  },
  {
   "cell_type": "code",
   "execution_count": 82,
   "id": "9cd3a4ef",
   "metadata": {},
   "outputs": [],
   "source": [
    "class Mamifero:\n",
    "    def __init__(self, r_especie, r_tamanio, r_peso):\n",
    "        self.especie = r_especie\n",
    "        self.tamanio = r_tamanio\n",
    "        self.peso = r_peso\n",
    "\n",
    "    def moverse(self):\n",
    "        print(\"Me estoy moviendo.\")\n",
    "\n",
    "class Mascota(Mamifero):\n",
    "    def __init__(self, r_especie, r_tamanio, r_peso, r_nombre, r_raza):\n",
    "        super().__init__(r_especie, r_tamanio, r_peso)\n",
    "        self.nombre = r_nombre\n",
    "        self.raza = r_raza\n",
    "    def comer(self):\n",
    "        print(\"Estoy comiendo\")"
   ]
  },
  {
   "cell_type": "code",
   "execution_count": null,
   "id": "ffb8a85b",
   "metadata": {},
   "outputs": [
    {
     "name": "stdout",
     "output_type": "stream",
     "text": [
      "Mascota 1\n",
      "Gato\n",
      "Variado\n",
      "Variado\n",
      "Luna\n",
      "Pelo corto\n",
      "Me estoy moviendo.\n",
      "Estoy comiendo\n"
     ]
    }
   ],
   "source": [
    "mascota1 = Mascota(\"Gato\", \"Variado\", \"Variado\", \"Luna\", \"Pelo corto\")\n",
    "\n",
    "print(\"Mascota 1\")\n",
    "print(mascota1.especie)\n",
    "print(mascota1.tamanio)\n",
    "print(mascota1.peso)\n",
    "print(mascota1.nombre)\n",
    "print(mascota1.raza)\n",
    "\n",
    "mascota1.moverse()\n",
    "mascota1.comer()\n",
    "\n"
   ]
  },
  {
   "cell_type": "code",
   "execution_count": 84,
   "id": "a391ce95",
   "metadata": {},
   "outputs": [
    {
     "name": "stdout",
     "output_type": "stream",
     "text": [
      "Mascota 1\n",
      "Gato\n",
      "Variado\n",
      "Variado\n",
      "Luna\n",
      "Pelo corto\n",
      "Me estoy moviendo.\n",
      "Estoy comiendo\n",
      "Mamifero 1\n",
      "Elefante\n",
      "Grande\n",
      "Tonelada\n",
      "Me estoy moviendo.\n"
     ]
    }
   ],
   "source": [
    "mascota1 = Mascota(\"Gato\", \"Variado\", \"Variado\", \"Luna\", \"Pelo corto\")\n",
    "\n",
    "print(\"Mascota 1\")\n",
    "print(mascota1.especie)\n",
    "print(mascota1.tamanio)\n",
    "print(mascota1.peso)\n",
    "print(mascota1.nombre)\n",
    "print(mascota1.raza)\n",
    "\n",
    "mascota1.moverse()\n",
    "mascota1.comer()\n",
    "\n",
    "mamifero1 = Mamifero(\"Elefante\", \"Grande\", \"Tonelada\")\n",
    "\n",
    "print(\"Mamifero 1\")\n",
    "print(mamifero1.especie)\n",
    "print(mamifero1.tamanio)\n",
    "print(mamifero1.peso)\n",
    "mamifero1.moverse()"
   ]
  },
  {
   "cell_type": "code",
   "execution_count": 85,
   "id": "ac735f69",
   "metadata": {},
   "outputs": [],
   "source": [
    "class Mamifero:\n",
    "    def __init__(self, r_especie, r_tamanio, r_peso):\n",
    "        self.especie = r_especie\n",
    "        self.tamanio = r_tamanio\n",
    "        self.peso = r_peso\n",
    "\n",
    "    def moverse(self):\n",
    "        print(\"Me estoy moviendo.\")\n",
    "\n",
    "class Mascota(Mamifero):\n",
    "    def __init__(self, r_especie, r_tamanio, r_peso, r_nombre, r_raza):\n",
    "        super().__init__(r_especie, r_tamanio, r_peso)\n",
    "        self.nombre = r_nombre\n",
    "        self.raza = r_raza\n",
    "    def comer(self):\n",
    "        print(\"Estoy comiendo\")\n",
    "class Perro(Mascota):\n",
    "    def __init__(self, r_especie, r_tamanio, r_peso, r_nombre, r_raza, r_vacunado):\n",
    "        super().__init__(r_especie, r_tamanio, r_peso, r_nombre, r_raza)\n",
    "        self.vacunado = r_vacunado\n",
    "    def ladrar():\n",
    "        print(\"Guau!\")"
   ]
  },
  {
   "cell_type": "code",
   "execution_count": 86,
   "id": "8ea7accb",
   "metadata": {},
   "outputs": [
    {
     "name": "stdout",
     "output_type": "stream",
     "text": [
      "Mascota 1\n",
      "Gato\n",
      "Variado\n",
      "Variado\n",
      "Luna\n",
      "Pelo corto\n",
      "Me estoy moviendo.\n",
      "Estoy comiendo\n",
      "Mamifero 1\n",
      "Elefante\n",
      "Grande\n",
      "Tonelada\n",
      "Me estoy moviendo.\n",
      "Perro 1\n",
      "Perro\n",
      "Pequeño\n",
      "5 kg\n",
      "Petiza\n",
      "Pequines\n",
      "True\n"
     ]
    }
   ],
   "source": [
    "mascota1 = Mascota(\"Gato\", \"Variado\", \"Variado\", \"Luna\", \"Pelo corto\")\n",
    "\n",
    "print(\"Mascota 1\")\n",
    "print(mascota1.especie)\n",
    "print(mascota1.tamanio)\n",
    "print(mascota1.peso)\n",
    "print(mascota1.nombre)\n",
    "print(mascota1.raza)\n",
    "\n",
    "mascota1.moverse()\n",
    "mascota1.comer()\n",
    "\n",
    "mamifero1 = Mamifero(\"Elefante\", \"Grande\", \"Tonelada\")\n",
    "\n",
    "print(\"Mamifero 1\")\n",
    "print(mamifero1.especie)\n",
    "print(mamifero1.tamanio)\n",
    "print(mamifero1.peso)\n",
    "mamifero1.moverse()\n",
    "\n",
    "perro1 = Perro(\"Perro\", \"Pequeño\", \"5 kg\", \"Petiza\", \"Pequines\", True)\n",
    "\n",
    "print(\"Perro 1\")\n",
    "print(perro1.especie)\n",
    "print(perro1.tamanio)\n",
    "print(perro1.peso)\n",
    "print(perro1.nombre)\n",
    "print(perro1.raza)\n",
    "print(perro1.vacunado)"
   ]
  },
  {
   "cell_type": "markdown",
   "id": "ad6cc283",
   "metadata": {},
   "source": [
    "## Polimorfismo"
   ]
  },
  {
   "cell_type": "code",
   "execution_count": 88,
   "id": "a223ff3e",
   "metadata": {},
   "outputs": [],
   "source": [
    "class Mascota:\n",
    "    def hablar(self):\n",
    "        print(\"Hace un sonido\")\n",
    "\n",
    "class Perro:\n",
    "    def hablar(self):\n",
    "        print(\"Guau!\")\n",
    "\n",
    "\n",
    "class Gato(Mascota):\n",
    "    def hablar(self):\n",
    "        print(\"Miau!\")\n",
    "\n",
    "class Loro(Mascota):\n",
    "    def hablar(self):\n",
    "        super().hablar()\n",
    "        print(\"El loro habla\")\n"
   ]
  },
  {
   "cell_type": "code",
   "execution_count": 89,
   "id": "fdd0bd36",
   "metadata": {},
   "outputs": [
    {
     "name": "stdout",
     "output_type": "stream",
     "text": [
      "Hace un sonido\n",
      "Guau!\n",
      "Miau!\n",
      "Hace un sonido\n",
      "El loro habla\n"
     ]
    }
   ],
   "source": [
    "mascota1 = Mascota()\n",
    "perro1 = Perro()\n",
    "gato1 = Gato()\n",
    "loro1 = Loro()\n",
    "\n",
    "mascota1.hablar()\n",
    "perro1.hablar()\n",
    "gato1.hablar()\n",
    "loro1.hablar()"
   ]
  },
  {
   "cell_type": "code",
   "execution_count": 92,
   "id": "cff3795d",
   "metadata": {},
   "outputs": [],
   "source": [
    "class Mascota:\n",
    "    def __init__(self, r_nombre, r_especie):\n",
    "        self.nombre = r_nombre\n",
    "        self.especie = r_especie\n",
    "\n",
    "    def hablar():\n",
    "        pass"
   ]
  },
  {
   "cell_type": "markdown",
   "id": "2e6e36c8",
   "metadata": {},
   "source": [
    "## Ejemplo git"
   ]
  }
 ],
 "metadata": {
  "kernelspec": {
   "display_name": "curso",
   "language": "python",
   "name": "python3"
  },
  "language_info": {
   "codemirror_mode": {
    "name": "ipython",
    "version": 3
   },
   "file_extension": ".py",
   "mimetype": "text/x-python",
   "name": "python",
   "nbconvert_exporter": "python",
   "pygments_lexer": "ipython3",
   "version": "3.11.9"
  }
 },
 "nbformat": 4,
 "nbformat_minor": 5
}
